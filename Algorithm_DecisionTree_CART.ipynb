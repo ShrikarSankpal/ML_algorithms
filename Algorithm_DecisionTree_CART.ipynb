{
  "nbformat": 4,
  "nbformat_minor": 0,
  "metadata": {
    "colab": {
      "name": "CARTAlgoDT.ipynb",
      "provenance": [],
      "collapsed_sections": []
    },
    "kernelspec": {
      "name": "python3",
      "display_name": "Python 3"
    }
  },
  "cells": [
    {
      "cell_type": "code",
      "metadata": {
        "id": "Z8qNDUrZbESL"
      },
      "source": [
        "import numpy as np\n",
        "import pandas as pd"
      ],
      "execution_count": 1,
      "outputs": []
    },
    {
      "cell_type": "code",
      "metadata": {
        "id": "aYSNfITEbZVb"
      },
      "source": [
        "#from google.colab import files\n",
        "#uploaded = files.upload()"
      ],
      "execution_count": 3,
      "outputs": []
    },
    {
      "cell_type": "markdown",
      "metadata": {
        "id": "kUfwAEzGlOT8"
      },
      "source": [
        "## Read data"
      ]
    },
    {
      "cell_type": "code",
      "metadata": {
        "id": "LKaMZVjTbbBi",
        "colab": {
          "base_uri": "https://localhost:8080/"
        },
        "outputId": "d6b2e635-39ce-4ee7-aab9-b61a2f7b2974"
      },
      "source": [
        "data = pd.read_csv('playornot.csv')\n",
        "print(data)"
      ],
      "execution_count": 4,
      "outputs": [
        {
          "output_type": "stream",
          "text": [
            "    Day   Outlook Temperature Humidity    Wind Decision\n",
            "0     1     Sunny         Hot     High    Weak       No\n",
            "1     2     Sunny         Hot     High  Strong       No\n",
            "2     3  Overcast         Hot     High    Weak      Yes\n",
            "3     4      Rain        Mild     High    Weak      Yes\n",
            "4     5      Rain        Cool   Normal    Weak      Yes\n",
            "5     6      Rain        Cool   Normal  Strong       No\n",
            "6     7  Overcast        Cool   Normal  Strong      Yes\n",
            "7     8     Sunny        Mild     High    Weak       No\n",
            "8     9     Sunny        Cool   Normal    Weak      Yes\n",
            "9    10      Rain        Mild   Normal    Weak      Yes\n",
            "10   11     Sunny        Mild   Normal  Strong      Yes\n",
            "11   12  Overcast        Mild     High  Strong      Yes\n",
            "12   13  Overcast         Hot   Normal    Weak      Yes\n",
            "13   14      Rain        Mild     High  Strong       No\n"
          ],
          "name": "stdout"
        }
      ]
    },
    {
      "cell_type": "markdown",
      "metadata": {
        "id": "Hv812hXGlQ8e"
      },
      "source": [
        "## Change data type to int"
      ]
    },
    {
      "cell_type": "code",
      "metadata": {
        "id": "YFWXu9hQb8bO",
        "colab": {
          "base_uri": "https://localhost:8080/",
          "height": 206
        },
        "outputId": "0499ee63-d87f-4e4f-e489-c3e3b8c693e5"
      },
      "source": [
        "out = {'Sunny':0, 'Overcast':1,'Rain':2}\n",
        "data['Outlook'] = data['Outlook'].map(lambda x : out[x])\n",
        "temp = {'Hot':0,'Mild':1,'Cool':2}\n",
        "data['Temperature'] = data['Temperature'].map(lambda x : temp[x])\n",
        "data.head()\n",
        "data['Humidity'] = data['Humidity'].map(lambda x : 0 if x == 'High' else 1)\n",
        "data.head()\n",
        "data['Wind'] = data['Wind'].map(lambda x: 0 if x == 'Weak' else 1)\n",
        "data.head()\n",
        "data['Decision'] = data['Decision'].map(lambda x: 0 if x == 'No' else 1)\n",
        "data.head()"
      ],
      "execution_count": 5,
      "outputs": [
        {
          "output_type": "execute_result",
          "data": {
            "text/html": [
              "<div>\n",
              "<style scoped>\n",
              "    .dataframe tbody tr th:only-of-type {\n",
              "        vertical-align: middle;\n",
              "    }\n",
              "\n",
              "    .dataframe tbody tr th {\n",
              "        vertical-align: top;\n",
              "    }\n",
              "\n",
              "    .dataframe thead th {\n",
              "        text-align: right;\n",
              "    }\n",
              "</style>\n",
              "<table border=\"1\" class=\"dataframe\">\n",
              "  <thead>\n",
              "    <tr style=\"text-align: right;\">\n",
              "      <th></th>\n",
              "      <th>Day</th>\n",
              "      <th>Outlook</th>\n",
              "      <th>Temperature</th>\n",
              "      <th>Humidity</th>\n",
              "      <th>Wind</th>\n",
              "      <th>Decision</th>\n",
              "    </tr>\n",
              "  </thead>\n",
              "  <tbody>\n",
              "    <tr>\n",
              "      <th>0</th>\n",
              "      <td>1</td>\n",
              "      <td>0</td>\n",
              "      <td>0</td>\n",
              "      <td>0</td>\n",
              "      <td>0</td>\n",
              "      <td>0</td>\n",
              "    </tr>\n",
              "    <tr>\n",
              "      <th>1</th>\n",
              "      <td>2</td>\n",
              "      <td>0</td>\n",
              "      <td>0</td>\n",
              "      <td>0</td>\n",
              "      <td>1</td>\n",
              "      <td>0</td>\n",
              "    </tr>\n",
              "    <tr>\n",
              "      <th>2</th>\n",
              "      <td>3</td>\n",
              "      <td>1</td>\n",
              "      <td>0</td>\n",
              "      <td>0</td>\n",
              "      <td>0</td>\n",
              "      <td>1</td>\n",
              "    </tr>\n",
              "    <tr>\n",
              "      <th>3</th>\n",
              "      <td>4</td>\n",
              "      <td>2</td>\n",
              "      <td>1</td>\n",
              "      <td>0</td>\n",
              "      <td>0</td>\n",
              "      <td>1</td>\n",
              "    </tr>\n",
              "    <tr>\n",
              "      <th>4</th>\n",
              "      <td>5</td>\n",
              "      <td>2</td>\n",
              "      <td>2</td>\n",
              "      <td>1</td>\n",
              "      <td>0</td>\n",
              "      <td>1</td>\n",
              "    </tr>\n",
              "  </tbody>\n",
              "</table>\n",
              "</div>"
            ],
            "text/plain": [
              "   Day  Outlook  Temperature  Humidity  Wind  Decision\n",
              "0    1        0            0         0     0         0\n",
              "1    2        0            0         0     1         0\n",
              "2    3        1            0         0     0         1\n",
              "3    4        2            1         0     0         1\n",
              "4    5        2            2         1     0         1"
            ]
          },
          "metadata": {
            "tags": []
          },
          "execution_count": 5
        }
      ]
    },
    {
      "cell_type": "markdown",
      "metadata": {
        "id": "2n7W-buvlW-7"
      },
      "source": [
        "## Model build and fit"
      ]
    },
    {
      "cell_type": "code",
      "metadata": {
        "id": "ujdwG8cclVlC"
      },
      "source": [
        "from sklearn.tree import DecisionTreeClassifier\r\n",
        "model = DecisionTreeClassifier()\r\n",
        "model = model.fit(data.iloc[:, 1:5],data.iloc[:, 5])"
      ],
      "execution_count": null,
      "outputs": []
    },
    {
      "cell_type": "markdown",
      "metadata": {
        "id": "JzLH25EtlZ3q"
      },
      "source": [
        "## Model vizualize"
      ]
    },
    {
      "cell_type": "markdown",
      "metadata": {
        "id": "-NlKcCrgldf7"
      },
      "source": [
        "#### create a .dot file"
      ]
    },
    {
      "cell_type": "code",
      "metadata": {
        "id": "2r9CRH_ZcGHR"
      },
      "source": [
        "\n",
        "from sklearn.tree import export_graphviz\n",
        "feature_names = [\"Outlook\",\"Temperature\",\"Humidity\",\"Wind\"]\n",
        "out = ['Yes','No']\n",
        "dot = export_graphviz(decision_tree=model, out_file='p.dot', feature_names=feature_names, class_names=out)"
      ],
      "execution_count": 6,
      "outputs": []
    },
    {
      "cell_type": "markdown",
      "metadata": {
        "id": "AW0Tz7dAlgnT"
      },
      "source": [
        "#### create a .png file from the .dot file"
      ]
    },
    {
      "cell_type": "code",
      "metadata": {
        "id": "0ssNZpF8cVES"
      },
      "source": [
        "! dot -T png p.dot -o tree.png"
      ],
      "execution_count": 7,
      "outputs": []
    },
    {
      "cell_type": "code",
      "metadata": {
        "id": "LNyQo-5Ce3z4"
      },
      "source": [
        ""
      ],
      "execution_count": null,
      "outputs": []
    }
  ]
}