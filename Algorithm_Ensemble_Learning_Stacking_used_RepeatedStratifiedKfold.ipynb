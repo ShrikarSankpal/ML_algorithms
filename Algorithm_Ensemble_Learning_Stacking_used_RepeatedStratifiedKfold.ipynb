{
 "cells": [
  {
   "attachments": {
    "image.png": {
     "image/png": "[encoded data removed]"
    }
   },
   "cell_type": "markdown",
   "metadata": {},
   "source": [
    " ![image.png](attachment:image.png)   "
   ]
  },
  {
   "cell_type": "markdown",
   "metadata": {},
   "source": [
    "# Importing"
   ]
  },
  {
   "cell_type": "code",
   "execution_count": 1,
   "metadata": {},
   "outputs": [],
   "source": [
    "from sklearn.datasets import load_iris\n",
    "from sklearn.ensemble import StackingClassifier\n",
    "from sklearn.ensemble import RandomForestClassifier\n",
    "from sklearn.linear_model import LogisticRegression\n",
    "from sklearn.svm import LinearSVC\n",
    "from sklearn.model_selection import train_test_split\n",
    "from sklearn import metrics"
   ]
  },
  {
   "cell_type": "markdown",
   "metadata": {},
   "source": [
    "# get data"
   ]
  },
  {
   "cell_type": "code",
   "execution_count": 2,
   "metadata": {},
   "outputs": [],
   "source": [
    "X, y = load_iris(return_X_y=True)"
   ]
  },
  {
   "cell_type": "markdown",
   "metadata": {},
   "source": [
    "# split data"
   ]
  },
  {
   "cell_type": "code",
   "execution_count": 5,
   "metadata": {},
   "outputs": [],
   "source": [
    "X_train, X_test, y_train, y_test = train_test_split(X,y,test_size=0.30,random_state=1)"
   ]
  },
  {
   "cell_type": "markdown",
   "metadata": {},
   "source": [
    "# create different models to be used in stacking"
   ]
  },
  {
   "cell_type": "code",
   "execution_count": 3,
   "metadata": {},
   "outputs": [],
   "source": [
    "seed = 1\n",
    "models = [('rf',RandomForestClassifier(n_estimators=10,random_state=seed)),('svc',LinearSVC(random_state=seed))]"
   ]
  },
  {
   "cell_type": "markdown",
   "metadata": {},
   "source": [
    "# create stack model and fit"
   ]
  },
  {
   "cell_type": "code",
   "execution_count": 6,
   "metadata": {},
   "outputs": [
    {
     "name": "stderr",
     "output_type": "stream",
     "text": [
      "C:\\Users\\Shrikar\\anaconda3\\lib\\site-packages\\sklearn\\svm\\_base.py:976: ConvergenceWarning: Liblinear failed to converge, increase the number of iterations.\n",
      "  warnings.warn(\"Liblinear failed to converge, increase \"\n",
      "C:\\Users\\Shrikar\\anaconda3\\lib\\site-packages\\sklearn\\svm\\_base.py:976: ConvergenceWarning: Liblinear failed to converge, increase the number of iterations.\n",
      "  warnings.warn(\"Liblinear failed to converge, increase \"\n",
      "C:\\Users\\Shrikar\\anaconda3\\lib\\site-packages\\sklearn\\svm\\_base.py:976: ConvergenceWarning: Liblinear failed to converge, increase the number of iterations.\n",
      "  warnings.warn(\"Liblinear failed to converge, increase \"\n",
      "C:\\Users\\Shrikar\\anaconda3\\lib\\site-packages\\sklearn\\svm\\_base.py:976: ConvergenceWarning: Liblinear failed to converge, increase the number of iterations.\n",
      "  warnings.warn(\"Liblinear failed to converge, increase \"\n",
      "C:\\Users\\Shrikar\\anaconda3\\lib\\site-packages\\sklearn\\svm\\_base.py:976: ConvergenceWarning: Liblinear failed to converge, increase the number of iterations.\n",
      "  warnings.warn(\"Liblinear failed to converge, increase \"\n",
      "C:\\Users\\Shrikar\\anaconda3\\lib\\site-packages\\sklearn\\svm\\_base.py:976: ConvergenceWarning: Liblinear failed to converge, increase the number of iterations.\n",
      "  warnings.warn(\"Liblinear failed to converge, increase \"\n"
     ]
    },
    {
     "data": {
      "text/plain": [
       "StackingClassifier(estimators=[('rf',\n",
       "                                RandomForestClassifier(n_estimators=10,\n",
       "                                                       random_state=1)),\n",
       "                               ('svc', LinearSVC(random_state=1))],\n",
       "                   final_estimator=LogisticRegression())"
      ]
     },
     "execution_count": 6,
     "metadata": {},
     "output_type": "execute_result"
    }
   ],
   "source": [
    "stack_model = StackingClassifier(estimators=models,final_estimator=LogisticRegression())\n",
    "stack_model.fit(X_train,y_train)"
   ]
  },
  {
   "cell_type": "markdown",
   "metadata": {},
   "source": [
    "# predictions"
   ]
  },
  {
   "cell_type": "code",
   "execution_count": 7,
   "metadata": {},
   "outputs": [
    {
     "name": "stdout",
     "output_type": "stream",
     "text": [
      "[0 1 1 0 2 1 2 0 0 2 1 0 2 1 1 0 1 1 0 0 1 1 2 0 2 1 0 0 1 2 1 2 1 2 2 0 1\n",
      " 0 1 2 2 0 2 2 1]\n"
     ]
    }
   ],
   "source": [
    "y_pred = stack_model.predict(X_test)\n",
    "print(y_pred)"
   ]
  },
  {
   "cell_type": "markdown",
   "metadata": {},
   "source": [
    "# Metrics"
   ]
  },
  {
   "cell_type": "code",
   "execution_count": 8,
   "metadata": {},
   "outputs": [
    {
     "name": "stdout",
     "output_type": "stream",
     "text": [
      "Stacking Classifier\n",
      "0.9777777777777777 \n",
      " [[14  0  0]\n",
      " [ 0 17  1]\n",
      " [ 0  0 13]] \n",
      " [1.         0.97142857 0.96296296]\n"
     ]
    }
   ],
   "source": [
    "print(\"Stacking Classifier\")\n",
    "acc_score = metrics.accuracy_score(y_test,y_pred)\n",
    "conf_mat = metrics.confusion_matrix(y_test,y_pred)\n",
    "f1_score = metrics.f1_score(y_test,y_pred,average=None)\n",
    "print(acc_score,\"\\n\",conf_mat,\"\\n\",f1_score)"
   ]
  },
  {
   "cell_type": "code",
   "execution_count": null,
   "metadata": {},
   "outputs": [],
   "source": []
  },
  {
   "cell_type": "markdown",
   "metadata": {},
   "source": [
    "# From NET"
   ]
  },
  {
   "cell_type": "markdown",
   "metadata": {},
   "source": [
    "https://www.mygreatlearning.com/blog/ensemble-learning/"
   ]
  },
  {
   "cell_type": "markdown",
   "metadata": {},
   "source": [
    "## importing"
   ]
  },
  {
   "cell_type": "code",
   "execution_count": 10,
   "metadata": {},
   "outputs": [],
   "source": [
    "from numpy import mean\n",
    "from numpy import std\n",
    "from sklearn.datasets import make_classification\n",
    "from sklearn.model_selection import cross_val_score\n",
    "from sklearn.model_selection import RepeatedStratifiedKFold\n",
    "from sklearn.linear_model import LogisticRegression\n",
    "from sklearn.neighbors import KNeighborsClassifier\n",
    "from sklearn.tree import DecisionTreeClassifier\n",
    "from sklearn.svm import SVC\n",
    "from sklearn.naive_bayes import GaussianNB\n",
    "from sklearn.ensemble import StackingClassifier\n",
    "from matplotlib import pyplot\n",
    "from sklearn.datasets import load_wine,load_iris\n",
    "from matplotlib.pyplot import figure"
   ]
  },
  {
   "cell_type": "markdown",
   "metadata": {},
   "source": [
    "## form functions"
   ]
  },
  {
   "cell_type": "code",
   "execution_count": 11,
   "metadata": {},
   "outputs": [],
   "source": [
    "# get a stacking ensemble of models\n",
    "def get_stacking():\n",
    "  # define the base models\n",
    "  level0 = list()\n",
    "  level0.append(('lr', LogisticRegression()))\n",
    "  level0.append(('knn', KNeighborsClassifier()))\n",
    "  level0.append(('cart', DecisionTreeClassifier()))\n",
    "  level0.append(('svm', SVC()))\n",
    "  level0.append(('bayes', GaussianNB()))\n",
    "  # define meta learner model\n",
    "  level1 = LogisticRegression()\n",
    "  # define the stacking ensemble\n",
    "  model = StackingClassifier(estimators=level0, final_estimator=level1, cv=5)\n",
    "  return model\n",
    " \n",
    "# get a list of models to evaluate\n",
    "def get_models():\n",
    "  models = dict()\n",
    "  models['LogisticRegression'] = LogisticRegression()\n",
    "  models['KNeighborsClassifier'] = KNeighborsClassifier()\n",
    "  models['Decision tree'] = DecisionTreeClassifier()\n",
    "  models['svm'] = SVC()\n",
    "  models['GaussianNB'] = GaussianNB()\n",
    "  models['stacking'] = get_stacking()\n",
    "  return models\n",
    " \n",
    "# evaluate a give model using cross-validation\n",
    "def evaluate_model(model):\n",
    "  cv = RepeatedStratifiedKFold(n_splits=10, n_repeats=3, random_state=1)\n",
    "  scores = cross_val_score(model, X, y, scoring='accuracy', cv=cv, n_jobs=-1, error_score='raise')\n",
    "  scores1 = cross_val_score(model, X1, y1, scoring='accuracy', cv=cv, n_jobs=-1, error_score='raise')\n",
    "  return scores,scores1"
   ]
  },
  {
   "cell_type": "markdown",
   "metadata": {},
   "source": [
    "## get data (there are 2)"
   ]
  },
  {
   "cell_type": "code",
   "execution_count": 12,
   "metadata": {},
   "outputs": [],
   "source": [
    "X,y = load_wine().data,load_wine().target\n",
    "X1,y1= load_iris().data,load_iris().target"
   ]
  },
  {
   "cell_type": "markdown",
   "metadata": {},
   "source": [
    "## get models"
   ]
  },
  {
   "cell_type": "code",
   "execution_count": 13,
   "metadata": {},
   "outputs": [],
   "source": [
    "models = get_models()"
   ]
  },
  {
   "cell_type": "markdown",
   "metadata": {},
   "source": [
    "## fit and predict"
   ]
  },
  {
   "cell_type": "code",
   "execution_count": 14,
   "metadata": {},
   "outputs": [
    {
     "name": "stdout",
     "output_type": "stream",
     "text": [
      ">LogisticRegression -> 0.950 (0.055)---Wine dataset\n",
      ">LogisticRegression -> 0.964 (0.041)---Iris dataset\n",
      ">KNeighborsClassifier -> 0.710 (0.094)---Wine dataset\n",
      ">KNeighborsClassifier -> 0.964 (0.037)---Iris dataset\n",
      ">Decision tree -> 0.899 (0.080)---Wine dataset\n",
      ">Decision tree -> 0.947 (0.056)---Iris dataset\n",
      ">svm -> 0.687 (0.096)---Wine dataset\n",
      ">svm -> 0.964 (0.045)---Iris dataset\n",
      ">GaussianNB -> 0.978 (0.037)---Wine dataset\n",
      ">GaussianNB -> 0.956 (0.047)---Iris dataset\n",
      ">stacking -> 0.961 (0.044)---Wine dataset\n",
      ">stacking -> 0.964 (0.037)---Iris dataset\n"
     ]
    }
   ],
   "source": [
    "# evaluate the models and store results\n",
    "results, names, results1 = list(), list(),list()\n",
    "for name, model in models.items():\n",
    "  scores,scores1= evaluate_model(model)\n",
    "  results.append(scores)\n",
    "  results1.append(scores1)\n",
    "  names.append(name)\n",
    "  print('>%s -> %.3f (%.3f)---Wine dataset' % (name, mean(scores), std(scores)))\n",
    "  print('>%s -> %.3f (%.3f)---Iris dataset' % (name, mean(scores1), std(scores1)))"
   ]
  },
  {
   "cell_type": "markdown",
   "metadata": {},
   "source": [
    "## vizualize"
   ]
  },
  {
   "cell_type": "code",
   "execution_count": 15,
   "metadata": {},
   "outputs": [
    {
     "data": {
      "image/png": "[encoded data removed]",
      "text/plain": [
       "<Figure size 1280x960 with 1 Axes>"
      ]
     },
     "metadata": {},
     "output_type": "display_data"
    },
    {
     "data": {
      "image/png": "[encoded data removed]",
      "text/plain": [
       "<Figure size 1080x432 with 1 Axes>"
      ]
     },
     "metadata": {
      "needs_background": "light"
     },
     "output_type": "display_data"
    }
   ],
   "source": [
    "figure(num=2, figsize=(16, 12), dpi=80, facecolor='w', edgecolor='k')\n",
    "# plot model performance for comparison\n",
    "pyplot.rcParams[\"figure.figsize\"] = (15,6)\n",
    "pyplot.boxplot(results, labels=[s+\"-wine\" for s in names], showmeans=True)\n",
    "pyplot.show()\n",
    "pyplot.boxplot(results1, labels=[s+\"-iris\" for s in names], showmeans=True)\n",
    "pyplot.show()"
   ]
  },
  {
   "cell_type": "code",
   "execution_count": null,
   "metadata": {},
   "outputs": [],
   "source": []
  }
 ],
 "metadata": {
  "kernelspec": {
   "display_name": "Python 3",
   "language": "python",
   "name": "python3"
  },
  "language_info": {
   "codemirror_mode": {
    "name": "ipython",
    "version": 3
   },
   "file_extension": ".py",
   "mimetype": "text/x-python",
   "name": "python",
   "nbconvert_exporter": "python",
   "pygments_lexer": "ipython3",
   "version": "3.8.5"
  }
 },
 "nbformat": 4,
 "nbformat_minor": 4
}
