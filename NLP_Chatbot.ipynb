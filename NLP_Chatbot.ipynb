{
 "cells": [
  {
   "cell_type": "markdown",
   "metadata": {},
   "source": [
    "# importing"
   ]
  },
  {
   "cell_type": "code",
   "execution_count": 1,
   "metadata": {},
   "outputs": [],
   "source": [
    "import io\n",
    "import random\n",
    "import string\n",
    "import warnings\n",
    "import numpy as np\n",
    "warnings.filterwarnings('ignore')\n",
    "\n",
    "from sklearn.feature_extraction.text import TfidfVectorizer\n",
    "from sklearn.metrics.pairwise import cosine_similarity\n",
    "import nltk\n",
    "from nltk.stem import WordNetLemmatizer\n",
    "from nltk.tokenize import RegexpTokenizer\n",
    "from nltk.tokenize import sent_tokenize, word_tokenize"
   ]
  },
  {
   "cell_type": "code",
   "execution_count": 2,
   "metadata": {},
   "outputs": [],
   "source": [
    "#nltk.download('popular', quiet=True)\n",
    "#nltk.download('punkt')\n",
    "#nltk.download('wordnet')"
   ]
  },
  {
   "cell_type": "markdown",
   "metadata": {},
   "source": [
    "# get data"
   ]
  },
  {
   "cell_type": "code",
   "execution_count": 3,
   "metadata": {},
   "outputs": [],
   "source": [
    "f = open(r'datasets/chatbot.txt','r',errors='ignore')\n",
    "raw = f.read()\n",
    "raw = raw.lower()"
   ]
  },
  {
   "cell_type": "code",
   "execution_count": null,
   "metadata": {},
   "outputs": [],
   "source": []
  },
  {
   "cell_type": "markdown",
   "metadata": {},
   "source": [
    "# tokenize, create sentenses  \n",
    "\n",
    "* data cleaning is required"
   ]
  },
  {
   "cell_type": "code",
   "execution_count": 4,
   "metadata": {},
   "outputs": [
    {
     "data": {
      "text/plain": [
       "['a chatbot is a piece of software that conducts a conversation via auditory or textual methods.',\n",
       " '[1] such programs are often designed to convincingly simulate how a human would behave as a conversational partner, although as of 2019, they are far short of being able to pass the turing test.',\n",
       " '[2] chatbots are typically used in dialog systems for various practical purposes including customer service or information acquisition.',\n",
       " 'some chatbots use sophisticated natural language processing systems, but many simpler ones scan for keywords within the input, then pull a reply with the most matching keywords, or the most similar wording pattern, from a database.',\n",
       " 'the term \"chatterbot\" was originally coined by michael mauldin (creator of the first verbot, julia) in 1994 to describe these conversational programs.',\n",
       " \"[3] today, most chatbots are accessed via virtual assistants such as google assistant and amazon alexa, via messaging apps such as facebook messenger or wechat, or via individual organizations' apps and websites.\",\n",
       " '[4][5] chatbots can be classified into usage categories such as conversational commerce (e-commerce via chat), analytics, communication, customer support, design, developer tools, education, entertainment, finance, food, games, health, hr, marketing, news, personal, productivity, shopping, social, sports, travel and utilities.',\n",
       " '[6]\\n\\nbeyond chatbots, conversational ai refers to the use of messaging apps, speech-based assistants and chatbots to automate communication and create personalized customer experiences at scale.',\n",
       " '[7]\\n\\n\\ncontents\\n1\\tbackground\\n2\\tdevelopment\\n3\\tapplication\\n3.1\\tmessaging apps\\n3.1.1\\tas part of company apps and websites\\n3.1.2\\tchatbot sequences\\n3.2\\tcompany internal platforms\\n3.3\\tbanking\\n3.4\\thealthcare\\n3.5\\tpolitics\\n3.6\\ttoys\\n4\\tchatbot development platforms\\n5\\tmalicious use\\n6\\tlimitations of chatbots\\n7\\tchatbots and jobs\\n8\\tsee also\\n9\\treferences\\n9.1\\tfurther reading\\nbackground\\nin 1950, alan turing\\'s famous article \"computing machinery and intelligence\" was published,[8] which proposed what is now called the turing test as a criterion of intelligence.',\n",
       " 'this criterion depends on the ability of a computer program to impersonate a human in a real-time written conversation with a human judge, sufficiently well that the judge is unable to distinguish reliably—on the basis of the conversational content alone—between the program and a real human.',\n",
       " \"the notoriety of turing's proposed test stimulated great interest in joseph weizenbaum's program eliza, published in 1966, which seemed to be able to fool users into believing that they were conversing with a real human.\",\n",
       " 'however weizenbaum himself did not claim that eliza was genuinely intelligent, and the introduction to his paper presented it more as a debunking exercise:\\n\\n[in] artificial intelligence ... machines are made to behave in wondrous ways, often sufficient to dazzle even the most experienced observer.',\n",
       " 'but once a particular program is unmasked, once its inner workings are explained ... its magic crumbles away; it stands revealed as a mere collection of procedures ... the observer says to himself \"i could have written that\".',\n",
       " 'with that thought he moves the program in question from the shelf marked \"intelligent\", to that reserved for curios ... the object of this paper is to cause just such a re-evaluation of the program about to be \"explained\".',\n",
       " 'few programs ever needed it more.',\n",
       " \"[9]\\n\\neliza's key method of operation (copied by chatbot designers ever since) involves the recognition of clue words or phrases in the input, and the output of corresponding pre-prepared or pre-programmed responses that can move the conversation forward in an apparently meaningful way (e.g.\",\n",
       " \"by responding to any input that contains the word 'mother' with 'tell me more about your family').\",\n",
       " '[10] thus an illusion of understanding is generated, even though the processing involved has been merely superficial.',\n",
       " 'eliza showed that such an illusion is surprisingly easy to generate, because human judges are so ready to give the benefit of the doubt when conversational responses are capable of being interpreted as \"intelligent\".',\n",
       " \"interface designers have come to appreciate that humans' readiness to interpret computer output as genuinely conversational—even when it is actually based on rather simple pattern-matching—can be exploited for useful purposes.\",\n",
       " 'most people prefer to engage with programs that are human-like, and this gives chatbot-style techniques a potentially useful role in interactive systems that need to elicit information from users, as long as that information is relatively straightforward and falls into predictable categories.',\n",
       " 'thus, for example, online help systems can usefully employ chatbot techniques to identify the area of help that users require, potentially providing a \"friendlier\" interface than a more formal search or menu system.',\n",
       " 'this sort of usage holds the prospect of moving chatbot technology from weizenbaum\\'s \"shelf ... reserved for curios\" to that marked \"genuinely useful computational methods\".',\n",
       " 'development\\nthe classic historic early chatbots are eliza (1966) and parry (1972).',\n",
       " '[11][12][13][14] more recent notable programs include a.l.i.c.e., jabberwacky and d.u.d.e (agence nationale de la recherche and cnrs 2006).',\n",
       " 'while eliza and parry were used exclusively to simulate typed conversation, many chatbots now include functional features such as games and web searching abilities.',\n",
       " \"in 1984, a book called the policeman's beard is half constructed was published, allegedly written by the chatbot racter (though the program as released would not have been capable of doing so).\",\n",
       " '[15]\\n\\none pertinent field of ai research is natural language processing.',\n",
       " 'usually, weak ai fields employ specialized software or programming languages created specifically for the narrow function required.',\n",
       " 'for example, a.l.i.c.e.',\n",
       " 'uses a markup language called aiml, which is specific to its function as a conversational agent, and has since been adopted by various other developers of, so called, alicebots.',\n",
       " 'nevertheless, a.l.i.c.e.',\n",
       " 'is still purely based on pattern matching techniques without any reasoning capabilities, the same technique eliza was using back in 1966. this is not strong ai, which would require sapience and logical reasoning abilities.',\n",
       " 'jabberwacky learns new responses and context based on real-time user interactions, rather than being driven from a static database.',\n",
       " 'some more recent chatbots also combine real-time learning with evolutionary algorithms that optimise their ability to communicate based on each conversation held.',\n",
       " 'still, there is currently no general purpose conversational artificial intelligence, and some software developers focus on the practical aspect, information retrieval.',\n",
       " 'chatbot competitions focus on the turing test or more specific goals.',\n",
       " 'two such annual contests are the loebner prize and the chatterbox challenge (the latter has been offline since 2015, however materials can still be found from web archives).',\n",
       " '[16]\\n\\ndbpedia created a chatbot during the gsoc of 2017.',\n",
       " '[17][18][19] and can communicate through facebook messenger.',\n",
       " 'dbpedia started in 2007 and allows to extract structured content from the wikipedia dataset, along with many other datasets.',\n",
       " 'dbpedia is currently one of the biggest representatives of linked open data (lod).',\n",
       " \"[20]\\n\\napplication\\nsee also: virtual assistant\\n\\naeromexico airline chatbot running on facebook messenger, march 2018\\nmessaging apps\\nmany companies' chatbots run on messaging apps or simply via sms.\",\n",
       " 'they are used for b2c customer service, sales and marketing.',\n",
       " '[21]\\n\\nin 2016, facebook messenger allowed developers to place chatbots on their platform.',\n",
       " 'there were 30,000 bots created for messenger in the first six months, rising to 100,000 by september 2017.',\n",
       " '[22]\\n\\nsince september 2017, this has also been as part of a pilot program on whatsapp.',\n",
       " 'airlines klm and aeroméxico both announced their participation in the testing;[23][24][25][26] both airlines had previously launched customer services on the facebook messenger platform.',\n",
       " \"the bots usually appear as one of the user's contacts, but can sometimes act as participants in a group chat.\",\n",
       " 'many banks, insurers, media companies, e-commerce companies, airlines, hotel chains, retailers, health care providers, government entities and restaurant chains have used chatbots to answer simple questions, increase customer engagement,[27] for promotion, and to offer additional ways to order from them.',\n",
       " '[28][29]\\n\\na 2017 study showed 4% of companies used chatbots.',\n",
       " '[30] according to a 2016 study, 80% of businesses said they intended to have one by 2020.',\n",
       " '[31]\\n\\nas part of company apps and websites\\nprevious generations of chatbots were present on company websites, e.g.',\n",
       " \"ask jenn from alaska airlines which debuted in 2008[32] or expedia's virtual customer service agent which launched in 2011.\",\n",
       " '[32][33] the newer generation of chatbots includes ibm watson-powered \"rocky\", introduced in february 2017 by the new york city-based e-commerce company rare carat to provide information to prospective diamond buyers.',\n",
       " '[34][35]\\n\\nchatbot sequences\\nused by marketers to script sequences of messages, very similar to an autoresponder sequence.',\n",
       " 'such sequences can be triggered by user opt-in or the use of keywords within user interactions.',\n",
       " 'after a trigger occurs a sequence of messages is delivered until the next anticipated user response.',\n",
       " 'each user response is used in the decision tree to help the chatbot navigate the response sequences to deliver the correct response message.',\n",
       " 'company internal platforms\\nother companies explore ways they can use chatbots internally, for example for customer support, human resources, or even in internet-of-things (iot) projects.',\n",
       " 'overstock.com, for one, has reportedly launched a chatbot named mila to automate certain simple yet time-consuming processes when requesting for a sick leave.',\n",
       " '[36] other large companies such as lloyds banking group, royal bank of scotland, renault and citroën are now using automated online assistants instead of call centres with humans to provide a first point of contact.',\n",
       " \"a saas chatbot business ecosystem has been steadily growing since the f8 conference when facebook's mark zuckerberg unveiled that messenger would allow chatbots into the app.\",\n",
       " '[37] in large companies, like in hospitals and aviation organizations, it architects are designing reference architectures for intelligent chatbots that are used to unlock and share knowledge and experience in the organization more efficiently, and reduce the errors in answers from expert service desks significantly.',\n",
       " '[38] these intelligent chatbots make use of all kinds of artificial intelligence like image moderation and natural language understanding (nlu), natural language generation (nlg), machine learning and deep learning.',\n",
       " 'banking\\nnowadays a high majority of high-tech banking organizations are looking for integration of automated ai-based solutions such as chatbots in their customer service in order to provide faster and cheaper assistance to their clients becoming increasingly technodexterous.',\n",
       " 'in particularly, chatbots can efficiently conduct a dialogue, usually substituting other communication tools such as email, phone, or sms.',\n",
       " 'in banking area their major application is related to quick customer service answering common requests, and transactional support.',\n",
       " 'several studies accomplished by analytics agencies such as juniper or gartner [39] report significant reduction of cost of customer services, leading to billions of dollars of economy in the next 10 years.',\n",
       " \"gartner predicts an integration by 2020 of chatbots in at least 85% of all client's applications to customer service.\",\n",
       " \"juniper's study announces an impressive amount of $8 billion retained annually by 2022 due to the use of chatbots.\",\n",
       " 'since 2016 when facebook allows businesses to deliver automated customer support, e-commerce guidance, content and interactive experiences through chatbots, a large variety of chatbots for facebook messenger platform were developed.',\n",
       " \"[40] in 2016, russia-based tochka bank launched the world's first facebook bot for a range of financial services, in particularly including a possibility of making payments.\",\n",
       " '[41] in july 2016, barclays africa also launched a facebook chatbot, making it the first bank to do so in africa.',\n",
       " \"[42]\\n\\nthe france's third largest bank by total assets [43] société générale launched their chatbot called sobot in march 2018. while the 80% of users of the sobot express their satisfaction after having tested it, il will never replace the expertise provided by a human advisor according to sg deputy director bertrand cozzarolo.\",\n",
       " '[44]\\n\\nthere are several potential advantages of using chatbots in interaction with customer in banking:[45]\\n\\ncost reduction.',\n",
       " \"chatbots eliminate the obligation of any human presence during online interaction and are so long seen as a huge advantage by companies operating with multiple repetitive queries at once as long as they don't require any decision-making procedure.\",\n",
       " '[46]\\nhuman touch.',\n",
       " 'chatbots, providing an interface similar to human-to-human interaction, are more intuitive and so less difficult to use than a standard banking mobile application.',\n",
       " 'they do not require any additional software installation and are more adaptive as able to be personalized during the exploitation by the means of machine learning.',\n",
       " 'chatbots are instant and so much faster that phone calls, shown to be considered as tedious in some studies.',\n",
       " 'then they satisfy both speed and personalization requirement while interacting with a bank.',\n",
       " 'financial advice.',\n",
       " \"state-of-the-art banking assistants can, by accessing personal customer's data such as consumer behavior or history of purchases, provide useful information on client's account and use it to develop ai-based recommendations for better adapted money management.\",\n",
       " 'attracting new clients.',\n",
       " \"a chatbot greeting a bank's website guest can provide some useful and relevant information, helping to exploit the offered products and services in a personalized manner helps to attract the potential client and the he is more likely to end by creation of a new account.\",\n",
       " '[45]\\n24/7 digital support.',\n",
       " 'an instant and always accessible assistant is assumed by the more and more digital consumer of the new era.',\n",
       " \"[39] unlike humans, chatbots once developed and installed don't have a limited workdays, holidays or weekends and are ready to attend queries at any hour of the day.\",\n",
       " \"it helps to the customer to avoid waiting of a company's agent to be available.\",\n",
       " \"thus, the customer doesn't have to wait for the company executive to help them.\",\n",
       " 'this also lets companies keep an eye on the traffic during the non-working hours and reach out to them later.',\n",
       " '[46]\\nhealthcare\\nsee also: artificial_intelligence_in_healthcare\\nchatbots are also appearing in the healthcare industry.',\n",
       " '[47][48][49] a study suggested that physicians in the united states believed that chatbots would be most beneficial for scheduling doctor appointments, locating health clinics, or providing medication information.',\n",
       " '[50]\\n\\ncertain patient groups are still reluctant to use chatbots.',\n",
       " 'a mixed-methods study showed that people are still hesitant to use chatbots for their healthcare due to poor understanding of the technological complexity, the lack of empathy and concerns about cyber-security.',\n",
       " '[51] the analysis showed that while 6% had heard of a health chatbot and 3% had experience of using it, 67% perceived themselves as likely to use one within 12 months.',\n",
       " 'the majority of participants would use a health chatbot for seeking general health information (78%), booking a medical appointment (78%) and looking for local health services (80%).',\n",
       " 'however, a health chatbot was perceived as less suitable for seeking results of medical tests and seeking specialist advice such as sexual health.',\n",
       " 'the analysis of attitudinal variables showed that most participants reported their preference for discussing their health with doctors (73%) and having access to reliable and accurate health information (93%).',\n",
       " 'while 80% were curious about new technologies that could improve their health, 66% reported only seeking a doctor when experiencing a health problem and 65% thought that a chatbot was a good idea.',\n",
       " 'interestingly, 30% reported dislike about talking to computers, 41% felt it would be strange to discuss health matters with a chatbot and about half were unsure if they could trust the advice given by a chatbot.',\n",
       " 'therefore, perceived trustworthiness, individual attitudes towards bots and dislike for talking to computers are the main barriers to health chatbots.',\n",
       " 'politics\\nin new zealand, the chatbot sam -short for semantic analysis machine-[52] (made by nick gerritsen of touchtech[53]) has been developed.',\n",
       " 'it is designed to share its political thoughts, for example on topics such as climate change, healthcare and education, etc.',\n",
       " 'it talks to people through facebook messenger.',\n",
       " '[54][55][56][57]\\n\\ntoys\\nchatbots have also been incorporated into devices not primarily meant for computing such as toys.',\n",
       " '[58]\\n\\nhello barbie is an internet-connected version of the doll that uses a chatbot provided by the company toytalk,[59] which previously used the chatbot for a range of smartphone-based characters for children.',\n",
       " \"[60] these characters' behaviors are constrained by a set of rules that in effect emulate a particular character and produce a storyline.\",\n",
       " \"[61]\\n\\nibm's watson computer has been used as the basis for chatbot-based educational toys for companies such as cognitoys[58] intended to interact with children for educational purposes.\",\n",
       " '[62]\\n\\nchatbot development platforms\\nthe process of building, testing and deploying chatbots can be done on cloud-based chatbot development platforms[63] offered by cloud platform as a service (paas) providers such as oracle cloud platform [64][33] snatchbot[65][66][67] and ibm watson.',\n",
       " '[68][69] these cloud platforms provide natural language processing, artificial intelligence and mobile backend as a service for chatbot development.',\n",
       " 'api\\n\\nsome companies like microsoft azure and aarc are currently providing their bot engines through which chatbot platforms or software can be developed.',\n",
       " 'malicious use\\nmalicious chatbots are frequently used to fill chat rooms with spam and advertisements, by mimicking human behavior and conversations or to entice people into revealing personal information, such as bank account numbers.',\n",
       " 'they are commonly found on yahoo!',\n",
       " 'messenger, windows live messenger, aol instant messenger and other instant messaging protocols.',\n",
       " \"there has also been a published report of a chatbot used in a fake personal ad on a dating service's website.\",\n",
       " '[70]\\n\\ntay, an ai chatbot that learns from previous interaction, caused major controversy due to it being targeted by internet trolls on twitter.',\n",
       " 'the bot was exploited, and after 16 hours began to send extremely offensive tweets to users.',\n",
       " 'this suggests that although the bot learnt effectively from experience, adequate protection was not put in place to prevent misuse.',\n",
       " '[71]\\n\\nif a text-sending algorithm can pass itself off as a human instead of a chatbot, its message would be more credible.',\n",
       " 'therefore, human-seeming chatbots with well-crafted online identities could start scattering fake news that seem plausible, for instance making false claims during a presidential election.',\n",
       " 'with enough chatbots, it might be even possible to achieve artificial social proof.',\n",
       " '[72][73]\\n\\nlimitations of chatbots\\nthe creation and implementation of chatbots is still a developing area, heavily related to artificial intelligence and machine learning, so the provided solutions, while possessing obvious advantages, have some important limitations in terms of functionalities and use cases.',\n",
       " 'however this is changing over time.',\n",
       " 'the most common ones are listed below:[74]\\n\\nas the database, used for output generation, is fixed and limited, chatbots can fail while dealing with an unsaved query.',\n",
       " \"[46]\\na chatbot's efficiency highly depends on language processing and is limited because of irregularities, such as accents and mistakes that can create an important barrier for international and multi-cultural organisations [75]\\nchatbots are unable to deal with multiple questions at the same time and so conversation opportunities are limited.\",\n",
       " '[74]\\nas it happens usually with technology-led changes in existing services, some consumers, more often than not from the old generation, are uncomfortable with chatbots due to their limited understanding, making it obvious that their requests are being dealt machines.',\n",
       " '[74]\\nchatbots and jobs\\nchatbots are increasingly present in businesses and often are used to automate tasks that do not require skill-based talents.',\n",
       " 'with customer service taking place via messaging apps as well as phone calls, there are growing numbers of use-cases where chatbot deployment gives organisations a clear return on investment.',\n",
       " 'call centre workers may be particularly at risk from ai-driven chatbots.',\n",
       " \"[76]\\n\\na study by forrester (june 2017) predicts that 25% of today's jobs will most likely be impacted by ai technologies by 2019.\",\n",
       " '[77]']"
      ]
     },
     "execution_count": 4,
     "metadata": {},
     "output_type": "execute_result"
    }
   ],
   "source": [
    "sentences = nltk.sent_tokenize(raw)\n",
    "sentences"
   ]
  },
  {
   "cell_type": "code",
   "execution_count": 29,
   "metadata": {},
   "outputs": [],
   "source": [
    "#indata1 = raw.replace(\"\\n\",\" \")\n",
    "#indata1 = indata1.replace('\\s+',\" \")\n",
    "#indata1 = indata1.replace('\\W+',\" \")\n",
    "\n",
    "#print(\"after removing spaces and stuff: \\n\",indata1)\n",
    "#tokens=RegexpTokenizer(r'[a-zA-Z0-9]+',gaps=False)\n",
    "# tk=tokens.tokenize(indata1)\n",
    "\n",
    "#data = []\n",
    "\n",
    "#for s in sent_tokenize(indata1):\n",
    "#    tdata = []\n",
    "#     s = str(tokens.tokenize(s))\n",
    "#    for w in word_tokenize(s):\n",
    "#        tdata.append(w.lower())\n",
    "#        print(\"tokenized data: \\n\",tdata)\n",
    "#    data.append(tdata)\n",
    "#print(\"final tokenized data: \\n\",data)"
   ]
  },
  {
   "cell_type": "code",
   "execution_count": 30,
   "metadata": {},
   "outputs": [],
   "source": [
    "#words = nltk.word_tokenize(raw)\n",
    "#words"
   ]
  },
  {
   "cell_type": "markdown",
   "metadata": {},
   "source": [
    "# lemmetize data, create a function for it"
   ]
  },
  {
   "cell_type": "code",
   "execution_count": 31,
   "metadata": {},
   "outputs": [],
   "source": [
    "lemmer = nltk.stem.WordNetLemmatizer()"
   ]
  },
  {
   "cell_type": "code",
   "execution_count": 32,
   "metadata": {},
   "outputs": [],
   "source": [
    "def LemTokens(tokens):\n",
    "    return [lemmer.lemmatize(token) for token in tokens]"
   ]
  },
  {
   "cell_type": "code",
   "execution_count": 33,
   "metadata": {},
   "outputs": [],
   "source": [
    "#just to see the output of lemmer\n",
    "t = LemTokens(sentences)"
   ]
  },
  {
   "cell_type": "markdown",
   "metadata": {},
   "source": [
    "# Remove punctuation marks\n",
    "\n",
    "* create a dictionary of punctuation marks's ord and map them to None\n",
    "* so that when you pass this dictionary to a string.translate() it will map the punctations in the string to None"
   ]
  },
  {
   "cell_type": "code",
   "execution_count": 43,
   "metadata": {},
   "outputs": [
    {
     "data": {
      "text/plain": [
       "'!\"#$%&\\'()*+,-./:;<=>?@[\\\\]^_`{|}~'"
      ]
     },
     "execution_count": 43,
     "metadata": {},
     "output_type": "execute_result"
    }
   ],
   "source": [
    "string.punctuation"
   ]
  },
  {
   "cell_type": "code",
   "execution_count": 34,
   "metadata": {},
   "outputs": [],
   "source": [
    "remove_punct_dict = dict((ord(punct),None) for punct in string.punctuation)"
   ]
  },
  {
   "cell_type": "code",
   "execution_count": 39,
   "metadata": {
    "scrolled": true
   },
   "outputs": [
    {
     "data": {
      "text/plain": [
       "{33: None,\n",
       " 34: None,\n",
       " 35: None,\n",
       " 36: None,\n",
       " 37: None,\n",
       " 38: None,\n",
       " 39: None,\n",
       " 40: None,\n",
       " 41: None,\n",
       " 42: None,\n",
       " 43: None,\n",
       " 44: None,\n",
       " 45: None,\n",
       " 46: None,\n",
       " 47: None,\n",
       " 58: None,\n",
       " 59: None,\n",
       " 60: None,\n",
       " 61: None,\n",
       " 62: None,\n",
       " 63: None,\n",
       " 64: None,\n",
       " 91: None,\n",
       " 92: None,\n",
       " 93: None,\n",
       " 94: None,\n",
       " 95: None,\n",
       " 96: None,\n",
       " 123: None,\n",
       " 124: None,\n",
       " 125: None,\n",
       " 126: None}"
      ]
     },
     "execution_count": 39,
     "metadata": {},
     "output_type": "execute_result"
    }
   ],
   "source": [
    "remove_punct_dict"
   ]
  },
  {
   "cell_type": "code",
   "execution_count": 45,
   "metadata": {},
   "outputs": [],
   "source": [
    "def LemNormalize(text):\n",
    "    '''removes the punctuation marks and tokenizes the given text into words'''\n",
    "    return LemTokens(nltk.word_tokenize(text.lower().translate(remove_punct_dict)))"
   ]
  },
  {
   "cell_type": "markdown",
   "metadata": {},
   "source": [
    "# Build model"
   ]
  },
  {
   "cell_type": "code",
   "execution_count": 36,
   "metadata": {},
   "outputs": [],
   "source": [
    "# Create responding function\n",
    "def response1(user_input):\n",
    "    #initial chatbot response\n",
    "    chatbot_response = ''\n",
    "    #add user input to your sentences\n",
    "    sentences.append(user_input)\n",
    "    #Use Tfidf vectorizer\n",
    "    tfidfvec = TfidfVectorizer(tokenizer=LemNormalize, stop_words='english')\n",
    "    # pass the sentences into tfidfvec\n",
    "    tfidf = tfidfvec.fit_transform(sentences)\n",
    "    \n",
    "    #calculate the cosine similarity between user input and rest of the sentences\n",
    "    sim_val = cosine_similarity(tfidf[-1],tfidf)\n",
    "    \n",
    "    index_val = sim_val.argsort()[0][-2]\n",
    "#     print(index_val)\n",
    "    index_val_flat = index_val.flatten()\n",
    "    sim_val_flat = sim_val.flatten()\n",
    "#     print(index_val)\n",
    "#     print(sim_val.flatten())\n",
    "#     print(type(index_val))\n",
    "#     print(len(index_val))\n",
    "    idx = index_val_flat.tolist()\n",
    "#     for i in idx:\n",
    "#         print('Index: ', i)\n",
    "#         print('Sim Value: ', sim_val_flat[i])\n",
    "#         print(sentences[i])\n",
    "#     return sentences[0][-2]\n",
    "    return sentences[index_val]"
   ]
  },
  {
   "cell_type": "markdown",
   "metadata": {},
   "source": [
    "# Result"
   ]
  },
  {
   "cell_type": "code",
   "execution_count": 37,
   "metadata": {},
   "outputs": [
    {
     "name": "stdout",
     "output_type": "stream",
     "text": [
      "Hi, Let's chat...\n",
      "It's your turn to type: hello there dude\n",
      "[11][12][13][14] more recent notable programs include a.l.i.c.e., jabberwacky and d.u.d.e (agence nationale de la recherche and cnrs 2006).\n"
     ]
    }
   ],
   "source": [
    "print(\"Hi, Let's chat...\")\n",
    "user_input = input(\"It's your turn to type: \")\n",
    "res = response1(user_input)\n",
    "print(res)"
   ]
  },
  {
   "cell_type": "code",
   "execution_count": 38,
   "metadata": {},
   "outputs": [
    {
     "name": "stdout",
     "output_type": "stream",
     "text": [
      "eliza showed that such an illusion is surprisingly easy to generate, because human judges are so ready to give the benefit of the doubt when conversational responses are capable of being interpreted as \"intelligent\".\n"
     ]
    }
   ],
   "source": [
    "print(sentences[18])"
   ]
  },
  {
   "cell_type": "code",
   "execution_count": null,
   "metadata": {},
   "outputs": [],
   "source": []
  }
 ],
 "metadata": {
  "kernelspec": {
   "display_name": "Python 3",
   "language": "python",
   "name": "python3"
  },
  "language_info": {
   "codemirror_mode": {
    "name": "ipython",
    "version": 3
   },
   "file_extension": ".py",
   "mimetype": "text/x-python",
   "name": "python",
   "nbconvert_exporter": "python",
   "pygments_lexer": "ipython3",
   "version": "3.8.5"
  }
 },
 "nbformat": 4,
 "nbformat_minor": 4
}
