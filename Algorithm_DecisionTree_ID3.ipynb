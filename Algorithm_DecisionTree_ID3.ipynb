{
  "nbformat": 4,
  "nbformat_minor": 0,
  "metadata": {
    "kernelspec": {
      "display_name": "Python 3",
      "language": "python",
      "name": "python3"
    },
    "language_info": {
      "codemirror_mode": {
        "name": "ipython",
        "version": 3
      },
      "file_extension": ".py",
      "mimetype": "text/x-python",
      "name": "python",
      "nbconvert_exporter": "python",
      "pygments_lexer": "ipython3",
      "version": "3.8.5"
    },
    "colab": {
      "name": "Algorithm_ID3.ipynb",
      "provenance": [],
      "collapsed_sections": [],
      "toc_visible": true
    }
  },
  "cells": [
    {
      "cell_type": "markdown",
      "metadata": {
        "id": "58wqAs5A2kG-"
      },
      "source": [
        "# ID3 on Car data"
      ]
    },
    {
      "cell_type": "markdown",
      "metadata": {
        "id": "oSezeMy62tkM"
      },
      "source": [
        "## read data"
      ]
    },
    {
      "cell_type": "code",
      "metadata": {
        "id": "nSYiab6fzIJU"
      },
      "source": [
        "import pandas as pd\n",
        "df = pd.read_csv('car.csv',names=['buying','maint', 'doors', 'persons', 'lug_boot', 'safety', 'carclass'])"
      ],
      "execution_count": 1,
      "outputs": []
    },
    {
      "cell_type": "code",
      "metadata": {
        "colab": {
          "base_uri": "https://localhost:8080/",
          "height": 206
        },
        "id": "PgcrR0zXzIJc",
        "outputId": "4f92a7fd-5552-4248-b1c8-e50a64dac250"
      },
      "source": [
        "df.head()"
      ],
      "execution_count": 2,
      "outputs": [
        {
          "output_type": "execute_result",
          "data": {
            "text/html": [
              "<div>\n",
              "<style scoped>\n",
              "    .dataframe tbody tr th:only-of-type {\n",
              "        vertical-align: middle;\n",
              "    }\n",
              "\n",
              "    .dataframe tbody tr th {\n",
              "        vertical-align: top;\n",
              "    }\n",
              "\n",
              "    .dataframe thead th {\n",
              "        text-align: right;\n",
              "    }\n",
              "</style>\n",
              "<table border=\"1\" class=\"dataframe\">\n",
              "  <thead>\n",
              "    <tr style=\"text-align: right;\">\n",
              "      <th></th>\n",
              "      <th>buying</th>\n",
              "      <th>maint</th>\n",
              "      <th>doors</th>\n",
              "      <th>persons</th>\n",
              "      <th>lug_boot</th>\n",
              "      <th>safety</th>\n",
              "      <th>carclass</th>\n",
              "    </tr>\n",
              "  </thead>\n",
              "  <tbody>\n",
              "    <tr>\n",
              "      <th>0</th>\n",
              "      <td>vhigh</td>\n",
              "      <td>vhigh</td>\n",
              "      <td>2</td>\n",
              "      <td>2</td>\n",
              "      <td>small</td>\n",
              "      <td>low</td>\n",
              "      <td>unacc</td>\n",
              "    </tr>\n",
              "    <tr>\n",
              "      <th>1</th>\n",
              "      <td>vhigh</td>\n",
              "      <td>vhigh</td>\n",
              "      <td>2</td>\n",
              "      <td>2</td>\n",
              "      <td>small</td>\n",
              "      <td>med</td>\n",
              "      <td>unacc</td>\n",
              "    </tr>\n",
              "    <tr>\n",
              "      <th>2</th>\n",
              "      <td>vhigh</td>\n",
              "      <td>vhigh</td>\n",
              "      <td>2</td>\n",
              "      <td>2</td>\n",
              "      <td>small</td>\n",
              "      <td>high</td>\n",
              "      <td>unacc</td>\n",
              "    </tr>\n",
              "    <tr>\n",
              "      <th>3</th>\n",
              "      <td>vhigh</td>\n",
              "      <td>vhigh</td>\n",
              "      <td>2</td>\n",
              "      <td>2</td>\n",
              "      <td>med</td>\n",
              "      <td>low</td>\n",
              "      <td>unacc</td>\n",
              "    </tr>\n",
              "    <tr>\n",
              "      <th>4</th>\n",
              "      <td>vhigh</td>\n",
              "      <td>vhigh</td>\n",
              "      <td>2</td>\n",
              "      <td>2</td>\n",
              "      <td>med</td>\n",
              "      <td>med</td>\n",
              "      <td>unacc</td>\n",
              "    </tr>\n",
              "  </tbody>\n",
              "</table>\n",
              "</div>"
            ],
            "text/plain": [
              "  buying  maint doors persons lug_boot safety carclass\n",
              "0  vhigh  vhigh     2       2    small    low    unacc\n",
              "1  vhigh  vhigh     2       2    small    med    unacc\n",
              "2  vhigh  vhigh     2       2    small   high    unacc\n",
              "3  vhigh  vhigh     2       2      med    low    unacc\n",
              "4  vhigh  vhigh     2       2      med    med    unacc"
            ]
          },
          "metadata": {
            "tags": []
          },
          "execution_count": 2
        }
      ]
    },
    {
      "cell_type": "markdown",
      "metadata": {
        "id": "9MM089qA2z_0"
      },
      "source": [
        "## change data"
      ]
    },
    {
      "cell_type": "code",
      "metadata": {
        "id": "EshTfOXMzIJe"
      },
      "source": [
        "buy = {'vhigh':0, 'high':1, 'med':2, 'low':3}\n",
        "df['buying'] = df['buying'].map(lambda x: buy[x])\n",
        "m = {'vhigh':0, 'high':1, 'med':2, 'low':3}\n",
        "df['maint'] = df['maint'].map(lambda x: m[x])\n",
        "d={'2':0, '3':1, '4':2, '5more':3}\n",
        "df['doors'] = df['doors'].map(lambda x: d[x])\n",
        "p={'2':0, '4':1, 'more':2}\n",
        "df['persons'] = df['persons'].map(lambda x: p[x])\n",
        "lb={'small':0, 'med':1, 'big':2}\n",
        "df['lug_boot'] = df['lug_boot'].map(lambda x: lb[x])\n",
        "sf={'low':0, 'med':1, 'high':2}\n",
        "df['safety'] = df['safety'].map(lambda x: sf[x])\n",
        "crcl={'unacc':0, 'acc':1, 'vgood':3, 'good':2}\n",
        "df['carclass'] = df['carclass'].map(lambda x: crcl[x])"
      ],
      "execution_count": 3,
      "outputs": []
    },
    {
      "cell_type": "code",
      "metadata": {
        "colab": {
          "base_uri": "https://localhost:8080/",
          "height": 206
        },
        "id": "Vy4SOPUCzIJe",
        "outputId": "1ac01b79-7872-44d2-ba56-ba8418773710"
      },
      "source": [
        "df.head()"
      ],
      "execution_count": 4,
      "outputs": [
        {
          "output_type": "execute_result",
          "data": {
            "text/html": [
              "<div>\n",
              "<style scoped>\n",
              "    .dataframe tbody tr th:only-of-type {\n",
              "        vertical-align: middle;\n",
              "    }\n",
              "\n",
              "    .dataframe tbody tr th {\n",
              "        vertical-align: top;\n",
              "    }\n",
              "\n",
              "    .dataframe thead th {\n",
              "        text-align: right;\n",
              "    }\n",
              "</style>\n",
              "<table border=\"1\" class=\"dataframe\">\n",
              "  <thead>\n",
              "    <tr style=\"text-align: right;\">\n",
              "      <th></th>\n",
              "      <th>buying</th>\n",
              "      <th>maint</th>\n",
              "      <th>doors</th>\n",
              "      <th>persons</th>\n",
              "      <th>lug_boot</th>\n",
              "      <th>safety</th>\n",
              "      <th>carclass</th>\n",
              "    </tr>\n",
              "  </thead>\n",
              "  <tbody>\n",
              "    <tr>\n",
              "      <th>0</th>\n",
              "      <td>0</td>\n",
              "      <td>0</td>\n",
              "      <td>0</td>\n",
              "      <td>0</td>\n",
              "      <td>0</td>\n",
              "      <td>0</td>\n",
              "      <td>0</td>\n",
              "    </tr>\n",
              "    <tr>\n",
              "      <th>1</th>\n",
              "      <td>0</td>\n",
              "      <td>0</td>\n",
              "      <td>0</td>\n",
              "      <td>0</td>\n",
              "      <td>0</td>\n",
              "      <td>1</td>\n",
              "      <td>0</td>\n",
              "    </tr>\n",
              "    <tr>\n",
              "      <th>2</th>\n",
              "      <td>0</td>\n",
              "      <td>0</td>\n",
              "      <td>0</td>\n",
              "      <td>0</td>\n",
              "      <td>0</td>\n",
              "      <td>2</td>\n",
              "      <td>0</td>\n",
              "    </tr>\n",
              "    <tr>\n",
              "      <th>3</th>\n",
              "      <td>0</td>\n",
              "      <td>0</td>\n",
              "      <td>0</td>\n",
              "      <td>0</td>\n",
              "      <td>1</td>\n",
              "      <td>0</td>\n",
              "      <td>0</td>\n",
              "    </tr>\n",
              "    <tr>\n",
              "      <th>4</th>\n",
              "      <td>0</td>\n",
              "      <td>0</td>\n",
              "      <td>0</td>\n",
              "      <td>0</td>\n",
              "      <td>1</td>\n",
              "      <td>1</td>\n",
              "      <td>0</td>\n",
              "    </tr>\n",
              "  </tbody>\n",
              "</table>\n",
              "</div>"
            ],
            "text/plain": [
              "   buying  maint  doors  persons  lug_boot  safety  carclass\n",
              "0       0      0      0        0         0       0         0\n",
              "1       0      0      0        0         0       1         0\n",
              "2       0      0      0        0         0       2         0\n",
              "3       0      0      0        0         1       0         0\n",
              "4       0      0      0        0         1       1         0"
            ]
          },
          "metadata": {
            "tags": []
          },
          "execution_count": 4
        }
      ]
    },
    {
      "cell_type": "markdown",
      "metadata": {
        "id": "zJ0KX2Kk26Mq"
      },
      "source": [
        "## form target and data"
      ]
    },
    {
      "cell_type": "code",
      "metadata": {
        "id": "XVSWvAukzIJg"
      },
      "source": [
        "X=df.iloc[:,:6]"
      ],
      "execution_count": 5,
      "outputs": []
    },
    {
      "cell_type": "code",
      "metadata": {
        "id": "kfXOyu6BzIJg"
      },
      "source": [
        "y=df.iloc[:,6]"
      ],
      "execution_count": 6,
      "outputs": []
    },
    {
      "cell_type": "markdown",
      "metadata": {
        "id": "lB3aHEeL29aS"
      },
      "source": [
        "## model building"
      ]
    },
    {
      "cell_type": "code",
      "metadata": {
        "id": "j5Y2fflzzIJh"
      },
      "source": [
        "import six\n",
        "import sys\n",
        "sys.modules['sklearn.externals.six'] = six"
      ],
      "execution_count": 7,
      "outputs": []
    },
    {
      "cell_type": "code",
      "metadata": {
        "colab": {
          "base_uri": "https://localhost:8080/"
        },
        "id": "STB69G9yzIJi",
        "outputId": "860c655c-5eea-42d0-cc05-fb44331389a8"
      },
      "source": [
        "!pip install decision-tree-id3\n",
        "from id3 import Id3Estimator\n",
        "model = Id3Estimator()\n",
        "model.fit(X, y)"
      ],
      "execution_count": 9,
      "outputs": [
        {
          "output_type": "stream",
          "text": [
            "Collecting decision-tree-id3\n",
            "  Downloading https://files.pythonhosted.org/packages/53/60/9b51eb3b5096afa1fce2718f56c99f8e183162dae114c56592112ab54329/decision-tree-id3-0.1.2.tar.gz\n",
            "Collecting nose>=1.1.2\n",
            "\u001b[?25l  Downloading https://files.pythonhosted.org/packages/15/d8/dd071918c040f50fa1cf80da16423af51ff8ce4a0f2399b7bf8de45ac3d9/nose-1.3.7-py3-none-any.whl (154kB)\n",
            "\u001b[K     |████████████████████████████████| 163kB 8.9MB/s \n",
            "\u001b[?25hRequirement already satisfied: scikit-learn>=0.17 in /usr/local/lib/python3.6/dist-packages (from decision-tree-id3) (0.22.2.post1)\n",
            "Requirement already satisfied: numpy>=1.6.1 in /usr/local/lib/python3.6/dist-packages (from decision-tree-id3) (1.19.4)\n",
            "Requirement already satisfied: scipy>=0.17.0 in /usr/local/lib/python3.6/dist-packages (from scikit-learn>=0.17->decision-tree-id3) (1.4.1)\n",
            "Requirement already satisfied: joblib>=0.11 in /usr/local/lib/python3.6/dist-packages (from scikit-learn>=0.17->decision-tree-id3) (1.0.0)\n",
            "Building wheels for collected packages: decision-tree-id3\n",
            "  Building wheel for decision-tree-id3 (setup.py) ... \u001b[?25l\u001b[?25hdone\n",
            "  Created wheel for decision-tree-id3: filename=decision_tree_id3-0.1.2-cp36-none-any.whl size=15964 sha256=479e93d80ab17200acf904ba08f4e2e4993c559a17b174ad2963a6f6e79935a8\n",
            "  Stored in directory: /root/.cache/pip/wheels/2d/d6/f2/96cb2cc307503a88b1235aef5c794990e460bd044f382070f9\n",
            "Successfully built decision-tree-id3\n",
            "Installing collected packages: nose, decision-tree-id3\n",
            "Successfully installed decision-tree-id3-0.1.2 nose-1.3.7\n"
          ],
          "name": "stdout"
        },
        {
          "output_type": "execute_result",
          "data": {
            "text/plain": [
              "Id3Estimator(gain_ratio=False, is_repeating=False, max_depth=None,\n",
              "             min_entropy_decrease=0.0, min_samples_split=2, prune=False)"
            ]
          },
          "metadata": {
            "tags": []
          },
          "execution_count": 9
        }
      ]
    },
    {
      "cell_type": "markdown",
      "metadata": {
        "id": "_jn1kvJB3B2z"
      },
      "source": [
        "## tree generation"
      ]
    },
    {
      "cell_type": "code",
      "metadata": {
        "id": "ZBhDoyOXzIJi"
      },
      "source": [
        "from id3 import export_graphviz"
      ],
      "execution_count": 10,
      "outputs": []
    },
    {
      "cell_type": "code",
      "metadata": {
        "colab": {
          "base_uri": "https://localhost:8080/"
        },
        "id": "F_gTg_lnzIJi",
        "outputId": "8b8404ee-e34d-4d68-ce5d-b1faff918c6d"
      },
      "source": [
        "export_graphviz(model.tree_, \"car_dot.dot\", ['buying','maint','doors','persons','lug_boot','safety'])"
      ],
      "execution_count": 11,
      "outputs": [
        {
          "output_type": "execute_result",
          "data": {
            "text/plain": [
              "<_io.TextIOWrapper name='car_dot.dot' mode='w' encoding='utf8'>"
            ]
          },
          "metadata": {
            "tags": []
          },
          "execution_count": 11
        }
      ]
    },
    {
      "cell_type": "code",
      "metadata": {
        "id": "KZ7iPyBnzIJj"
      },
      "source": [
        "!dot -T png car_dot.dot -o car_ID3_2.png"
      ],
      "execution_count": 14,
      "outputs": []
    },
    {
      "cell_type": "code",
      "metadata": {
        "id": "DNmHx2U0zIJl"
      },
      "source": [
        ""
      ],
      "execution_count": null,
      "outputs": []
    }
  ]
}