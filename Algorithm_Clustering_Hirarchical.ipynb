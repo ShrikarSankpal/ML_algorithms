{
 "cells": [
  {
   "cell_type": "markdown",
   "metadata": {},
   "source": [
    "# importing"
   ]
  },
  {
   "cell_type": "code",
   "execution_count": 1,
   "metadata": {},
   "outputs": [],
   "source": [
    "import numpy as np\n",
    "import matplotlib.pyplot as plt\n",
    "import pandas as pd"
   ]
  },
  {
   "cell_type": "markdown",
   "metadata": {},
   "source": [
    "# Get data"
   ]
  },
  {
   "cell_type": "code",
   "execution_count": 2,
   "metadata": {},
   "outputs": [
    {
     "name": "stdout",
     "output_type": "stream",
     "text": [
      "[[ 15  39]\n",
      " [ 15  81]\n",
      " [ 16   6]\n",
      " [ 16  77]\n",
      " [ 17  40]\n",
      " [ 17  76]\n",
      " [ 18   6]\n",
      " [ 18  94]\n",
      " [ 19   3]\n",
      " [ 19  72]\n",
      " [ 19  14]\n",
      " [ 19  99]\n",
      " [ 20  15]\n",
      " [ 20  77]\n",
      " [ 20  13]\n",
      " [ 20  79]\n",
      " [ 21  35]\n",
      " [ 21  66]\n",
      " [ 23  29]\n",
      " [ 23  98]\n",
      " [ 24  35]\n",
      " [ 24  73]\n",
      " [ 25   5]\n",
      " [ 25  73]\n",
      " [ 28  14]\n",
      " [ 28  82]\n",
      " [ 28  32]\n",
      " [ 28  61]\n",
      " [ 29  31]\n",
      " [ 29  87]\n",
      " [ 30   4]\n",
      " [ 30  73]\n",
      " [ 33   4]\n",
      " [ 33  92]\n",
      " [ 33  14]\n",
      " [ 33  81]\n",
      " [ 34  17]\n",
      " [ 34  73]\n",
      " [ 37  26]\n",
      " [ 37  75]\n",
      " [ 38  35]\n",
      " [ 38  92]\n",
      " [ 39  36]\n",
      " [ 39  61]\n",
      " [ 39  28]\n",
      " [ 39  65]\n",
      " [ 40  55]\n",
      " [ 40  47]\n",
      " [ 40  42]\n",
      " [ 40  42]\n",
      " [ 42  52]\n",
      " [ 42  60]\n",
      " [ 43  54]\n",
      " [ 43  60]\n",
      " [ 43  45]\n",
      " [ 43  41]\n",
      " [ 44  50]\n",
      " [ 44  46]\n",
      " [ 46  51]\n",
      " [ 46  46]\n",
      " [ 46  56]\n",
      " [ 46  55]\n",
      " [ 47  52]\n",
      " [ 47  59]\n",
      " [ 48  51]\n",
      " [ 48  59]\n",
      " [ 48  50]\n",
      " [ 48  48]\n",
      " [ 48  59]\n",
      " [ 48  47]\n",
      " [ 49  55]\n",
      " [ 49  42]\n",
      " [ 50  49]\n",
      " [ 50  56]\n",
      " [ 54  47]\n",
      " [ 54  54]\n",
      " [ 54  53]\n",
      " [ 54  48]\n",
      " [ 54  52]\n",
      " [ 54  42]\n",
      " [ 54  51]\n",
      " [ 54  55]\n",
      " [ 54  41]\n",
      " [ 54  44]\n",
      " [ 54  57]\n",
      " [ 54  46]\n",
      " [ 57  58]\n",
      " [ 57  55]\n",
      " [ 58  60]\n",
      " [ 58  46]\n",
      " [ 59  55]\n",
      " [ 59  41]\n",
      " [ 60  49]\n",
      " [ 60  40]\n",
      " [ 60  42]\n",
      " [ 60  52]\n",
      " [ 60  47]\n",
      " [ 60  50]\n",
      " [ 61  42]\n",
      " [ 61  49]\n",
      " [ 62  41]\n",
      " [ 62  48]\n",
      " [ 62  59]\n",
      " [ 62  55]\n",
      " [ 62  56]\n",
      " [ 62  42]\n",
      " [ 63  50]\n",
      " [ 63  46]\n",
      " [ 63  43]\n",
      " [ 63  48]\n",
      " [ 63  52]\n",
      " [ 63  54]\n",
      " [ 64  42]\n",
      " [ 64  46]\n",
      " [ 65  48]\n",
      " [ 65  50]\n",
      " [ 65  43]\n",
      " [ 65  59]\n",
      " [ 67  43]\n",
      " [ 67  57]\n",
      " [ 67  56]\n",
      " [ 67  40]\n",
      " [ 69  58]\n",
      " [ 69  91]\n",
      " [ 70  29]\n",
      " [ 70  77]\n",
      " [ 71  35]\n",
      " [ 71  95]\n",
      " [ 71  11]\n",
      " [ 71  75]\n",
      " [ 71   9]\n",
      " [ 71  75]\n",
      " [ 72  34]\n",
      " [ 72  71]\n",
      " [ 73   5]\n",
      " [ 73  88]\n",
      " [ 73   7]\n",
      " [ 73  73]\n",
      " [ 74  10]\n",
      " [ 74  72]\n",
      " [ 75   5]\n",
      " [ 75  93]\n",
      " [ 76  40]\n",
      " [ 76  87]\n",
      " [ 77  12]\n",
      " [ 77  97]\n",
      " [ 77  36]\n",
      " [ 77  74]\n",
      " [ 78  22]\n",
      " [ 78  90]\n",
      " [ 78  17]\n",
      " [ 78  88]\n",
      " [ 78  20]\n",
      " [ 78  76]\n",
      " [ 78  16]\n",
      " [ 78  89]\n",
      " [ 78   1]\n",
      " [ 78  78]\n",
      " [ 78   1]\n",
      " [ 78  73]\n",
      " [ 79  35]\n",
      " [ 79  83]\n",
      " [ 81   5]\n",
      " [ 81  93]\n",
      " [ 85  26]\n",
      " [ 85  75]\n",
      " [ 86  20]\n",
      " [ 86  95]\n",
      " [ 87  27]\n",
      " [ 87  63]\n",
      " [ 87  13]\n",
      " [ 87  75]\n",
      " [ 87  10]\n",
      " [ 87  92]\n",
      " [ 88  13]\n",
      " [ 88  86]\n",
      " [ 88  15]\n",
      " [ 88  69]\n",
      " [ 93  14]\n",
      " [ 93  90]\n",
      " [ 97  32]\n",
      " [ 97  86]\n",
      " [ 98  15]\n",
      " [ 98  88]\n",
      " [ 99  39]\n",
      " [ 99  97]\n",
      " [101  24]\n",
      " [101  68]\n",
      " [103  17]\n",
      " [103  85]\n",
      " [103  23]\n",
      " [103  69]\n",
      " [113   8]\n",
      " [113  91]\n",
      " [120  16]\n",
      " [120  79]\n",
      " [126  28]\n",
      " [126  74]\n",
      " [137  18]\n",
      " [137  83]]\n"
     ]
    }
   ],
   "source": [
    "dataset = pd.read_csv(r'datasets\\Mall_Customers.csv')\n",
    "\n",
    "dataset = dataset.iloc[:,[3,4]].values\n",
    "print(dataset)"
   ]
  },
  {
   "cell_type": "markdown",
   "metadata": {},
   "source": [
    "# find right number of clusters using elbow method"
   ]
  },
  {
   "cell_type": "markdown",
   "metadata": {},
   "source": [
    "### using dendrogram\n",
    "\n",
    "* options for method:\n",
    " * methods=['single','complete','average','centroid','median','ward','weighted']\n",
    " \n",
    "* options for metric:\n",
    " * metrics=[customFunctions]\n",
    " * e.g.\n",
    "     \n",
    "        def dist3(x,y):\n",
    "            '''absolute distance'''\n",
    "            return abs(x[0]-y[0])+abs(x[1]-y[1])"
   ]
  },
  {
   "cell_type": "code",
   "execution_count": 6,
   "metadata": {},
   "outputs": [
    {
     "data": {
      "image/png": "[encoded data removed]",
      "text/plain": [
       "<Figure size 432x288 with 1 Axes>"
      ]
     },
     "metadata": {
      "needs_background": "light"
     },
     "output_type": "display_data"
    }
   ],
   "source": [
    "import scipy.cluster.hierarchy as sch\n",
    "\n",
    "dendrogram = sch.dendrogram(sch.linkage(dataset, method = 'ward',metric='euclidean'))\n",
    "plt.title('Dendrogram')\n",
    "plt.xlabel('Customers')\n",
    "plt.ylabel('Euclidean Distances')\n",
    "plt.tight_layout()"
   ]
  },
  {
   "cell_type": "markdown",
   "metadata": {},
   "source": [
    "### using elbow method"
   ]
  },
  {
   "cell_type": "code",
   "execution_count": 53,
   "metadata": {},
   "outputs": [],
   "source": [
    "from sklearn.cluster import AgglomerativeClustering\n",
    "import scipy.stats as stats"
   ]
  },
  {
   "cell_type": "code",
   "execution_count": 55,
   "metadata": {},
   "outputs": [
    {
     "name": "stdout",
     "output_type": "stream",
     "text": [
      "number of clusters:  2\n",
      "following contains 3 entries of the data and the newly found out target:\n",
      "    0   1  target\n",
      "0  15  39       1\n",
      "1  15  81       1\n",
      "2  16   6       1\n",
      "storing values of cluster number:  0\n",
      "storing values of cluster number:  1\n",
      "\n",
      "\n",
      "number of clusters:  3\n",
      "following contains 3 entries of the data and the newly found out target:\n",
      "    0   1  target\n",
      "0  15  39       0\n",
      "1  15  81       0\n",
      "2  16   6       0\n",
      "storing values of cluster number:  0\n",
      "storing values of cluster number:  1\n",
      "storing values of cluster number:  2\n",
      "\n",
      "\n",
      "number of clusters:  4\n",
      "following contains 3 entries of the data and the newly found out target:\n",
      "    0   1  target\n",
      "0  15  39       0\n",
      "1  15  81       3\n",
      "2  16   6       0\n",
      "storing values of cluster number:  0\n",
      "storing values of cluster number:  1\n",
      "storing values of cluster number:  2\n",
      "storing values of cluster number:  3\n",
      "\n",
      "\n",
      "number of clusters:  5\n",
      "following contains 3 entries of the data and the newly found out target:\n",
      "    0   1  target\n",
      "0  15  39       4\n",
      "1  15  81       3\n",
      "2  16   6       4\n",
      "storing values of cluster number:  0\n",
      "storing values of cluster number:  1\n",
      "storing values of cluster number:  2\n",
      "storing values of cluster number:  3\n",
      "storing values of cluster number:  4\n",
      "\n",
      "\n",
      "number of clusters:  6\n",
      "following contains 3 entries of the data and the newly found out target:\n",
      "    0   1  target\n",
      "0  15  39       4\n",
      "1  15  81       3\n",
      "2  16   6       4\n",
      "storing values of cluster number:  0\n",
      "storing values of cluster number:  1\n",
      "storing values of cluster number:  2\n",
      "storing values of cluster number:  3\n",
      "storing values of cluster number:  4\n",
      "storing values of cluster number:  5\n",
      "\n",
      "\n",
      "number of clusters:  7\n",
      "following contains 3 entries of the data and the newly found out target:\n",
      "    0   1  target\n",
      "0  15  39       1\n",
      "1  15  81       3\n",
      "2  16   6       1\n",
      "storing values of cluster number:  0\n",
      "storing values of cluster number:  1\n",
      "storing values of cluster number:  2\n",
      "storing values of cluster number:  3\n",
      "storing values of cluster number:  4\n",
      "storing values of cluster number:  5\n",
      "storing values of cluster number:  6\n",
      "\n",
      "\n",
      "number of clusters:  8\n",
      "following contains 3 entries of the data and the newly found out target:\n",
      "    0   1  target\n",
      "0  15  39       0\n",
      "1  15  81       3\n",
      "2  16   6       0\n",
      "storing values of cluster number:  0\n",
      "storing values of cluster number:  1\n",
      "storing values of cluster number:  2\n",
      "storing values of cluster number:  3\n",
      "storing values of cluster number:  4\n",
      "storing values of cluster number:  5\n",
      "storing values of cluster number:  6\n",
      "storing values of cluster number:  7\n",
      "\n",
      "\n",
      "number of clusters:  9\n",
      "following contains 3 entries of the data and the newly found out target:\n",
      "    0   1  target\n",
      "0  15  39       4\n",
      "1  15  81       3\n",
      "2  16   6       8\n",
      "storing values of cluster number:  0\n",
      "storing values of cluster number:  1\n",
      "storing values of cluster number:  2\n",
      "storing values of cluster number:  3\n",
      "storing values of cluster number:  4\n",
      "storing values of cluster number:  5\n",
      "storing values of cluster number:  6\n",
      "storing values of cluster number:  7\n",
      "storing values of cluster number:  8\n",
      "\n",
      "\n"
     ]
    }
   ],
   "source": [
    "lst_f=[]\n",
    "\n",
    "#vary number of clusters from 2 to 9\n",
    "for i in range(2,10):\n",
    "    print(\"number of clusters: \",i)\n",
    "    hc = AgglomerativeClustering(n_clusters=i, affinity='euclidean', linkage='ward')\n",
    "    y_hc=hc.fit_predict(dataset)\n",
    "    df=pd.concat([pd.DataFrame(dataset),pd.DataFrame({'target':y_hc})],axis=1)\n",
    "    print(\"following contains 3 entries of the data and the newly found out target:\")\n",
    "    print(df.head(3))\n",
    "    # from groups of the values given by the target, i.e. clusters\n",
    "    grp=df.groupby('target')\n",
    "    #create a list to store the data for each cluster\n",
    "    lst=[]\n",
    "    for i, v in grp.groups.items():\n",
    "        print(\"storing values of cluster number: \",i)\n",
    "        lst.append(v)\n",
    "    \n",
    "    # store the overall measure of the clustered data, it measures how wee the data is separated\n",
    "    fvalue,pvalue=stats.f_oneway(*lst)\n",
    "    lst_f.append(fvalue)\n",
    "    print(\"\\n\")"
   ]
  },
  {
   "cell_type": "code",
   "execution_count": 65,
   "metadata": {},
   "outputs": [
    {
     "data": {
      "text/plain": [
       "[<matplotlib.lines.Line2D at 0x182a0217280>]"
      ]
     },
     "execution_count": 65,
     "metadata": {},
     "output_type": "execute_result"
    },
    {
     "data": {
      "image/png": "[encoded data removed]",
      "text/plain": [
       "<Figure size 432x288 with 1 Axes>"
      ]
     },
     "metadata": {
      "needs_background": "light"
     },
     "output_type": "display_data"
    }
   ],
   "source": [
    "plt.plot([2,3,4,5,6,7,8,9],lst_f)"
   ]
  },
  {
   "cell_type": "markdown",
   "metadata": {},
   "source": [
    "## Note: choose the first upper elbow, in this case 5, you can chooose the 2nd uppser elbow too"
   ]
  },
  {
   "cell_type": "markdown",
   "metadata": {},
   "source": [
    "## Note: study noth dendrogram and elbow to find out the right number of clusters"
   ]
  },
  {
   "cell_type": "markdown",
   "metadata": {},
   "source": [
    "# Final model"
   ]
  },
  {
   "cell_type": "code",
   "execution_count": 1,
   "metadata": {
    "ExecuteTime": {
     "end_time": "2021-01-20T05:19:40.341000Z",
     "start_time": "2021-01-20T05:19:38.205228Z"
    }
   },
   "outputs": [],
   "source": [
    "from sklearn.cluster import AgglomerativeClustering"
   ]
  },
  {
   "cell_type": "code",
   "execution_count": 66,
   "metadata": {},
   "outputs": [
    {
     "name": "stdout",
     "output_type": "stream",
     "text": [
      "predictions:  [4 3 4 3 4 3 4 3 4 3 4 3 4 3 4 3 4 3 4 3 4 3 4 3 4 3 4 3 4 3 4 3 4 3 4 3 4\n",
      " 3 4 3 4 3 4 1 4 1 1 1 1 1 1 1 1 1 1 1 1 1 1 1 1 1 1 1 1 1 1 1 1 1 1 1 1 1\n",
      " 1 1 1 1 1 1 1 1 1 1 1 1 1 1 1 1 1 1 1 1 1 1 1 1 1 1 1 1 1 1 1 1 1 1 1 1 1\n",
      " 1 1 1 1 1 1 1 1 1 1 1 1 2 1 2 1 2 0 2 0 2 1 2 0 2 0 2 0 2 0 2 1 2 0 2 1 2\n",
      " 0 2 0 2 0 2 0 2 0 2 0 2 1 2 0 2 0 2 0 2 0 2 0 2 0 2 0 2 0 2 0 2 0 2 0 2 0\n",
      " 2 0 2 0 2 0 2 0 2 0 2 0 2 0 2]\n"
     ]
    }
   ],
   "source": [
    "\n",
    "hc = AgglomerativeClustering(n_clusters=5, affinity='euclidean', linkage='ward')\n",
    "\n",
    "y_hc = hc.fit_predict(dataset)\n",
    "\n",
    "print(\"predictions: \",y_hc)"
   ]
  },
  {
   "cell_type": "markdown",
   "metadata": {},
   "source": [
    "# Vizualize"
   ]
  },
  {
   "cell_type": "code",
   "execution_count": 67,
   "metadata": {},
   "outputs": [
    {
     "data": {
      "image/png": "[encoded data removed]",
      "text/plain": [
       "<Figure size 432x288 with 1 Axes>"
      ]
     },
     "metadata": {
      "needs_background": "light"
     },
     "output_type": "display_data"
    }
   ],
   "source": [
    "plt.scatter(dataset[y_hc==0,0],dataset[y_hc==0,1], c = 'red', label = 'hihe')\n",
    "plt.scatter(dataset[y_hc==1,0],dataset[y_hc==1,1], c = 'green', label = 'aiae')\n",
    "plt.scatter(dataset[y_hc==2,0],dataset[y_hc==2,1], c = 'blue', label = 'hihe')\n",
    "plt.scatter(dataset[y_hc==3,0],dataset[y_hc==3,1], c = 'black', label = 'lihe')\n",
    "plt.scatter(dataset[y_hc==4,0],dataset[y_hc==4,1], c = 'yellow', label = 'lile')\n",
    "plt.title('Customer Clusreting (Hierarchical)')\n",
    "plt.xlabel('Annual Income (k$)')\n",
    "plt.ylabel('Spending Score (0-1)')\n",
    "plt.legend(loc='best')\n",
    "plt.show()"
   ]
  }
 ],
 "metadata": {
  "kernelspec": {
   "display_name": "Python 3",
   "language": "python",
   "name": "python3"
  },
  "language_info": {
   "codemirror_mode": {
    "name": "ipython",
    "version": 3
   },
   "file_extension": ".py",
   "mimetype": "text/x-python",
   "name": "python",
   "nbconvert_exporter": "python",
   "pygments_lexer": "ipython3",
   "version": "3.8.5"
  },
  "toc": {
   "base_numbering": 1,
   "nav_menu": {},
   "number_sections": true,
   "sideBar": true,
   "skip_h1_title": false,
   "title_cell": "Table of Contents",
   "title_sidebar": "Contents",
   "toc_cell": false,
   "toc_position": {},
   "toc_section_display": true,
   "toc_window_display": false
  },
  "varInspector": {
   "cols": {
    "lenName": 16,
    "lenType": 16,
    "lenVar": 40
   },
   "kernels_config": {
    "python": {
     "delete_cmd_postfix": "",
     "delete_cmd_prefix": "del ",
     "library": "var_list.py",
     "varRefreshCmd": "print(var_dic_list())"
    },
    "r": {
     "delete_cmd_postfix": ") ",
     "delete_cmd_prefix": "rm(",
     "library": "var_list.r",
     "varRefreshCmd": "cat(var_dic_list()) "
    }
   },
   "types_to_exclude": [
    "module",
    "function",
    "builtin_function_or_method",
    "instance",
    "_Feature"
   ],
   "window_display": false
  }
 },
 "nbformat": 4,
 "nbformat_minor": 4
}
